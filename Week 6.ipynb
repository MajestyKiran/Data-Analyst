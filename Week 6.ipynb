{
 "cells": [
  {
   "cell_type": "code",
   "execution_count": 1,
   "id": "4f09819d-9060-448a-9a63-62df9a45c5e4",
   "metadata": {},
   "outputs": [
    {
     "name": "stdout",
     "output_type": "stream",
     "text": [
      "   year  month  day gender  births\n",
      "0  1969      1  1.0      F    4046\n",
      "1  1969      1  1.0      M    4440\n",
      "2  1969      1  2.0      F    4454\n",
      "3  1969      1  2.0      M    4548\n",
      "4  1969      1  3.0      F    4548\n",
      "   year  month  day gender  births  Decade\n",
      "0  1969      1  1.0      F    4046    1960\n",
      "1  1969      1  1.0      M    4440    1960\n",
      "2  1969      1  2.0      F    4454    1960\n",
      "3  1969      1  2.0      M    4548    1960\n",
      "4  1969      1  3.0      F    4548    1960\n"
     ]
    }
   ],
   "source": [
    "import pandas as pd\n",
    "\n",
    "# Load the dataset\n",
    "df = pd.read_csv(\"births.csv\")\n",
    "\n",
    "# Check the first few rows of the dataset\n",
    "print(df.head())\n",
    "\n",
    "# Add a new column \"Decade\" by calculating\n",
    "df['Decade'] = (df['year'] // 10) * 10\n",
    "\n",
    "# Check the updated dataset\n",
    "print(df.head())\n",
    "\n",
    "# Save the updated dataset if needed\n",
    "# df.to_csv(\"births_with_decade.csv\", index=False)\n"
   ]
  },
  {
   "cell_type": "code",
   "execution_count": 2,
   "id": "830dc16c-3948-4f31-85a9-ebf729ad6c22",
   "metadata": {},
   "outputs": [
    {
     "name": "stdout",
     "output_type": "stream",
     "text": [
      "               year         month           day         births\n",
      "count  15547.000000  15547.000000  15067.000000   15547.000000\n",
      "mean    1979.037435      6.515919     17.769894    9762.293561\n",
      "std        6.728340      3.449632     15.284034   28552.465810\n",
      "min     1969.000000      1.000000      1.000000       1.000000\n",
      "25%     1974.000000      4.000000      8.000000    4358.000000\n",
      "50%     1979.000000      7.000000     16.000000    4814.000000\n",
      "75%     1984.000000     10.000000     24.000000    5289.500000\n",
      "max     2008.000000     12.000000     99.000000  199622.000000\n"
     ]
    }
   ],
   "source": [
    "import pandas as pd\n",
    "\n",
    "# Load the dataset\n",
    "df = pd.read_csv(\"births.csv\")\n",
    "\n",
    "# Display descriptive statistics\n",
    "print(df.describe())\n"
   ]
  },
  {
   "cell_type": "code",
   "execution_count": 3,
   "id": "bcb42ae4-02b9-4050-9569-40930b3532a1",
   "metadata": {},
   "outputs": [
    {
     "name": "stdout",
     "output_type": "stream",
     "text": [
      "Number of missing values in each column:\n",
      "year        0\n",
      "month       0\n",
      "day       480\n",
      "gender      0\n",
      "births      0\n",
      "dtype: int64\n",
      "The dataset contains missing values.\n"
     ]
    }
   ],
   "source": [
    "import pandas as pd\n",
    "\n",
    "# Load the dataset\n",
    "df = pd.read_csv(\"births.csv\")\n",
    "\n",
    "# Check for missing values\n",
    "missing_values = df.isnull().sum()\n",
    "\n",
    "# Print the number of missing values for each column\n",
    "print(\"Number of missing values in each column:\")\n",
    "print(missing_values)\n",
    "\n",
    "# Check if there are any missing values in the entire dataset\n",
    "if missing_values.sum() == 0:\n",
    "    print(\"There are no missing values in the dataset.\")\n",
    "else:\n",
    "    print(\"The dataset contains missing values.\")\n"
   ]
  },
  {
   "cell_type": "code",
   "execution_count": null,
   "id": "37aed00f-782d-4ff6-9f61-785c22d29c3d",
   "metadata": {},
   "outputs": [],
   "source": [
    "import pandas as pd\n",
    "import matplotlib.pyplot as plt\n",
    "\n",
    "# Load the dataset\n",
    "df = pd.read_csv(\"births.csv\")\n",
    "\n",
    "# Add a new column \"Decade\" by calculating\n",
    "df['Decade'] = (df['year'] // 10) * 10\n",
    "\n",
    "# Group the data by decade and gender, and calculate the total births\n",
    "births_per_decade_gender = df.groupby(['Decade', 'gender'])['Count'].sum().unstack()\n",
    "\n",
    "# Plot the trends\n",
    "births_per_decade_gender.plot(kind='bar', stacked=True)\n",
    "plt.title('Trend of Male & Female Births Every Decade')\n",
    "plt.xlabel('Decade')\n",
    "plt.ylabel('Number of Births')\n",
    "plt.xticks(rotation=45)\n",
    "plt.legend(title='gender')\n",
    "plt.tight_layout()\n",
    "plt.show()"
   ]
  },
  {
   "cell_type": "code",
   "execution_count": null,
   "id": "a4bb267f-9c5e-4f06-943d-b4aa831c364d",
   "metadata": {},
   "outputs": [],
   "source": [
    "\n",
    "import pandas as pd\n",
    "\n",
    "# Load the dataset\n",
    "df = pd.read_csv(\"births.csv\")\n",
    "\n",
    "# Calculate z-scores for the 'Count' column\n",
    "df['Count_zscore'] = (df['Count'] - df['Count'].mean()) / df['Count'].std()\n",
    "\n",
    "# Define the threshold for outliers (e.g., 5 standard deviations)\n",
    "threshold = 5\n",
    "\n",
    "# Remove outliers\n",
    "df_no_outliers = df[abs(df['Count_zscore']) <= threshold]\n",
    "\n",
    "# Drop the z-score column as it's no longer needed\n",
    "df_no_outliers.drop(columns=['Count_zscore'], inplace=True)\n",
    "\n",
    "# Display the shape of the original and cleaned datasets\n",
    "print(\"Original dataset shape:\", df.shape)\n",
    "print(\"Dataset shape after removing outliers:\", df_no_outliers.shape)\n"
   ]
  },
  {
   "cell_type": "code",
   "execution_count": null,
   "id": "aa99b746-6cb0-4e99-a0a7-3aa54f91bf32",
   "metadata": {},
   "outputs": [],
   "source": [
    "import pandas as pd\n",
    "import matplotlib.pyplot as plt\n",
    "\n",
    "# Load the dataset\n",
    "df = pd.read_csv(\"births.csv\")\n",
    "\n",
    "# Convert 'Date' column to datetime format\n",
    "df['Date'] = pd.to_datetime(df['Date'])\n",
    "\n",
    "# Extract weekday from the date (0 = Monday, 1 = Tuesday, ..., 6 = Sunday)\n",
    "df['Weekday'] = df['Date'].dt.weekday\n",
    "\n",
    "# Add a new column \"Decade\" by calculating\n",
    "df['Decade'] = (df['Year'] // 10) * 10\n",
    "\n",
    "# Group the data by decade and weekday, and calculate the total births\n",
    "births_per_decade_weekday = df.groupby(['Decade', 'Weekday'])['Count'].sum().unstack()\n",
    "\n",
    "# Plot the trends\n",
    "births_per_decade_weekday.plot(kind='line', marker='o')\n",
    "plt.title('Births by Weekday for Several Decades')\n",
    "plt.xlabel('Weekday (0=Monday, 1=Tuesday, ..., 6=Sunday)')\n",
    "plt.ylabel('Number of Births')\n",
    "plt.xticks(range(7), ['Monday', 'Tuesday', 'Wednesday', 'Thursday', 'Friday', 'Saturday', 'Sunday'])\n",
    "plt.legend(title='Decade', bbox_to_anchor=(1.05, 1), loc='upper left')\n",
    "plt.tight_layout()\n",
    "plt.show()\n"
   ]
  },
  {
   "cell_type": "code",
   "execution_count": null,
   "id": "20e01d84-4fe8-4797-854f-7bb50c81dcfc",
   "metadata": {},
   "outputs": [],
   "source": [
    "import pandas as pd\n",
    "\n",
    "# Load the dataset\n",
    "df = pd.read_csv(\"births.csv\")\n",
    "\n",
    "# Convert 'Date' column to datetime format\n",
    "df['Date'] = pd.to_datetime(df['Date'])\n",
    "\n",
    "# Extract month and day from the date\n",
    "df['Month'] = df['Date'].dt.month\n",
    "df['Day'] = df['Date'].dt.day\n",
    "\n",
    "# Group the data by month and calculate total births for each month\n",
    "births_per_month = df.groupby('Month')['Count'].sum()\n",
    "\n",
    "# Group the data by day and calculate total births for each day\n",
    "births_per_day = df.groupby('Day')['Count'].sum()\n",
    "\n",
    "# Display the results\n",
    "print(\"Total births per month:\")\n",
    "print(births_per_month)\n",
    "print(\"\\nTotal births per day:\")\n",
    "print(births_per_day)\n"
   ]
  },
  {
   "cell_type": "code",
   "execution_count": null,
   "id": "ce7f51d9-9580-45d6-b6c7-046244d650d2",
   "metadata": {},
   "outputs": [],
   "source": [
    "import pandas as pd\n",
    "import matplotlib.pyplot as plt\n",
    "\n",
    "# Load the dataset\n",
    "df = pd.read_csv(\"births.csv\")\n",
    "\n",
    "# Convert 'Date' column to datetime format\n",
    "df['Date'] = pd.to_datetime(df['Date'])\n",
    "\n",
    "# Extract month and day from the date\n",
    "df['Month'] = df['Date'].dt.month\n",
    "df['Day'] = df['Date'].dt.day\n",
    "\n",
    "# Group the data by month and day, and calculate the average number of births for each date\n",
    "average_births_per_date = df.groupby(['Month', 'Day'])['Count'].mean()\n",
    "\n",
    "# Reset index to get 'Month' and 'Day' as columns\n",
    "average_births_per_date = average_births_per_date.reset_index()\n",
    "\n",
    "# Plot the time series\n",
    "plt.figure(figsize=(12, 6))\n",
    "plt.plot(range(1, 366), average_births_per_date['Count'], marker='o', linestyle='-')\n",
    "plt.title('Average Number of Births by Date of the Year')\n",
    "plt.xlabel('Date of the Year')\n",
    "plt.ylabel('Average Number of Births')\n",
    "plt.grid(True)\n",
    "plt.tight_layout()\n",
    "plt.show()\n"
   ]
  }
 ],
 "metadata": {
  "kernelspec": {
   "display_name": "Python 3 (ipykernel)",
   "language": "python",
   "name": "python3"
  },
  "language_info": {
   "codemirror_mode": {
    "name": "ipython",
    "version": 3
   },
   "file_extension": ".py",
   "mimetype": "text/x-python",
   "name": "python",
   "nbconvert_exporter": "python",
   "pygments_lexer": "ipython3",
   "version": "3.11.7"
  },
  "widgets": {
   "application/vnd.jupyter.widget-state+json": {
    "state": {},
    "version_major": 2,
    "version_minor": 0
   }
  }
 },
 "nbformat": 4,
 "nbformat_minor": 5
}
